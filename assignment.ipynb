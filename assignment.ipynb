{
  "cells": [
    {
      "cell_type": "markdown",
      "id": "13ad028b-72b7-43ed-aa78-96fd4e518040",
      "metadata": {
        "id": "13ad028b-72b7-43ed-aa78-96fd4e518040"
      },
      "source": [
        "# Assignment: Data Wrangling\n",
        "### `! git clone https://github.com/ds3001f25/wrangling_assignment.git`\n",
        "### Do Q1 and Q2\n",
        "### Reading material: `tidy_data.pdf`"
      ]
    },
    {
      "cell_type": "markdown",
      "id": "da879ea7-8aac-48a3-b6c2-daea56d2e072",
      "metadata": {
        "id": "da879ea7-8aac-48a3-b6c2-daea56d2e072"
      },
      "source": [
        "**Q1.** This question provides some practice cleaning variables which have common problems.\n",
        "1. Numeric variable: For `./data/airbnb_hw.csv`, clean the `Price` variable as well as you can, and explain the choices you make. How many missing values do you end up with? (Hint: What happens to the formatting when a price goes over 999 dollars, say from 675 to 1,112?)\n",
        "2. Categorical variable: For the Minnesota police use of for data, `./data/mn_police_use_of_force.csv`, clean the `subject_injury` variable, handling the NA's; this gives a value `Yes` when a person was injured by police, and `No` when no injury occurred. What proportion of the values are missing? Is this a concern? Cross-tabulate your cleaned `subject_injury` variable with the `force_type` variable. Are there any patterns regarding when the data are missing?\n",
        "3. Dummy variable: For the pretrial data covered in the lecture `./data/justice_data.parquet`, clean the `WhetherDefendantWasReleasedPretrial` variable as well as you can, and, in particular, replace missing values with `np.nan`.\n",
        "4. Missing values, not at random: For the pretrial data covered in the lecture, clean the `ImposedSentenceAllChargeInContactEvent` variable as well as you can, and explain the choices you make. (Hint: Look at the `SentenceTypeAllChargesAtConvictionInContactEvent` variable.)"
      ]
    },
    {
      "cell_type": "code",
      "execution_count": 11,
      "id": "9d412a8d",
      "metadata": {
        "colab": {
          "base_uri": "https://localhost:8080/"
        },
        "id": "9d412a8d",
        "outputId": "d9c0c01e-c139-4a16-f75e-6c06d92b50b5"
      },
      "outputs": [
        {
          "output_type": "stream",
          "name": "stdout",
          "text": [
            "Q1.1 — Price cleaning\n",
            "     _Price_raw  Price_clean\n",
            "101       1,990         1990\n",
            "263       1,000         1000\n",
            "764       1,200         1200\n",
            "1272      1,000         1000\n",
            "1275      5,000         5000\n",
            "1476      3,000         3000\n",
            "1846      1,500         1500\n",
            "1973      1,200         1200\n",
            "\n",
            "Total rows: 30,478\n",
            "Missing after cleaning (Price_clean is NaN): 0\n",
            "  _Price_raw  Price_clean\n",
            "0        145        145.0\n",
            "1         37         37.0\n",
            "2         28         28.0\n",
            "3        199        199.0\n",
            "4        549        549.0\n",
            "5        149        149.0\n",
            "6        250        250.0\n",
            "7         90         90.0\n",
            "0\n",
            "Unique values before cleaning:\n",
            "['145' '37' '28' '199' '549' '149' '250' '90' '270' '290']\n",
            "\n",
            "Summary after cleaning:\n",
            "count    30478.000000\n",
            "mean       163.589737\n",
            "std        197.785454\n",
            "min         10.000000\n",
            "25%         80.000000\n",
            "50%        125.000000\n",
            "75%        195.000000\n",
            "max      10000.000000\n",
            "Name: Price_clean, dtype: float64\n",
            "\n",
            "Missing values after cleaning: 0\n"
          ]
        }
      ],
      "source": [
        "import pandas as pd\n",
        "import numpy as np\n",
        "import re\n",
        "\n",
        "## Question Q1.1\n",
        "\n",
        "url_airbnb = \"https://raw.githubusercontent.com/KendallFreese/wrangling_assignment/main/data/airbnb_hw.csv\"\n",
        "air = pd.read_csv(url_airbnb)\n",
        "\n",
        "# Keep original for comparison\n",
        "air[\"_Price_raw\"] = air[\"Price\"].astype(str)\n",
        "\n",
        "# Clean Price: remove $, commas → numeric (with coercion)\n",
        "air[\"Price_clean\"] = pd.to_numeric(\n",
        "    air[\"_Price_raw\"].str.replace(r\"[$,]\", \"\", regex=True),\n",
        "    errors=\"coerce\"\n",
        ")\n",
        "\n",
        "nan_examples = air.loc[air[\"Price_clean\"].isna(), [\"_Price_raw\", \"Price_clean\"]].head(10)\n",
        "print(\"Examples that became NaN (bad formatting or non-numeric):\")\n",
        "print(nan_examples, \"\\n\")\n",
        "\n",
        "# --- Show values that had commas removed ---\n",
        "comma_examples = air.loc[air[\"_Price_raw\"].str.contains(\",\"), [\"_Price_raw\", \"Price_clean\"]].head(10)\n",
        "print(\"Examples with commas cleaned out:\")\n",
        "print(comma_examples, \"\\n\")\n",
        "\n",
        "# --- Summary ---\n",
        "print(\"Summary of cleaned Price column:\")\n",
        "print(air[\"Price_clean\"].describe(), \"\\n\")\n",
        "print(\"Total missing after cleaning:\", air[\"Price_clean\"].isna().sum())\n",
        "\n",
        "\n",
        "# The Price column contained dollar signs and commas (e.g., \"$1,112\"), which prevented pandas from reading it as numeric.\n",
        "# I removed these formatting characters and used pd.to_numeric(..., errors=\"coerce\") so valid values converted to floats\n",
        "# (e.g., \"1,990\" → 1990.0) while any problematic entries would safely become NaN. This ensures the variable can be used\n",
        "# for calculations and analysis.\n",
        "\n",
        "\n",
        "## Question Q1.2\n",
        "\n",
        "\n"
      ]
    },
    {
      "cell_type": "markdown",
      "id": "5a60a44e",
      "metadata": {
        "id": "5a60a44e"
      },
      "source": [
        "**Q2.** Go to https://sharkattackfile.net/ and download their dataset on shark attacks (Hint: `GSAF5.xls`).\n",
        "\n",
        "1. Open the shark attack file using Pandas. It is probably not a csv file, so `read_csv` won't work.\n",
        "2. Drop any columns that do not contain data.\n",
        "3. Clean the year variable. Describe the range of values you see. Filter the rows to focus on attacks since 1940. Are attacks increasing, decreasing, or remaining constant over time?\n",
        "4. Clean the Age variable and make a histogram of the ages of the victims.\n",
        "5. What proportion of victims are male?\n",
        "6. Clean the `Type` variable so it only takes three values: Provoked and Unprovoked and Unknown. What proportion of attacks are unprovoked?\n",
        "7. Clean the `Fatal Y/N` variable so it only takes three values: Y, N, and Unknown.\n",
        "8. Are sharks more likely to launch unprovoked attacks on men or women? Is the attack more or less likely to be fatal when the attack is provoked or unprovoked? Is it more or less likely to be fatal when the victim is male or female? How do you feel about sharks?\n",
        "9. What proportion of attacks appear to be by white sharks? (Hint: `str.split()` makes a vector of text values into a list of lists, split by spaces.)"
      ]
    },
    {
      "cell_type": "code",
      "execution_count": 18,
      "id": "a3f03830",
      "metadata": {
        "colab": {
          "base_uri": "https://localhost:8080/"
        },
        "id": "a3f03830",
        "outputId": "dc137230-2500-4a00-a08c-8ca48208a09b"
      },
      "outputs": [
        {
          "output_type": "stream",
          "name": "stdout",
          "text": [
            "Examples that became NaN (bad formatting or non-numeric):\n",
            "Empty DataFrame\n",
            "Columns: [_Price_raw, Price_clean]\n",
            "Index: [] \n",
            "\n",
            "Examples with commas cleaned out:\n",
            "     _Price_raw  Price_clean\n",
            "101       1,990         1990\n",
            "263       1,000         1000\n",
            "764       1,200         1200\n",
            "1272      1,000         1000\n",
            "1275      5,000         5000\n",
            "1476      3,000         3000\n",
            "1846      1,500         1500\n",
            "1973      1,200         1200\n",
            "1977      1,800         1800\n",
            "2095      1,300         1300 \n",
            "\n",
            "Summary of cleaned Price column:\n",
            "count    30478.000000\n",
            "mean       163.589737\n",
            "std        197.785454\n",
            "min         10.000000\n",
            "25%         80.000000\n",
            "50%        125.000000\n",
            "75%        195.000000\n",
            "max      10000.000000\n",
            "Name: Price_clean, dtype: float64 \n",
            "\n",
            "Total missing after cleaning: 0\n"
          ]
        }
      ],
      "source": [
        "import pandas as pd\n",
        "import numpy as np\n",
        "import re\n",
        "\n",
        "url_airbnb = \"https://raw.githubusercontent.com/KendallFreese/wrangling_assignment/main/data/airbnb_hw.csv\"\n",
        "air = pd.read_csv(url_airbnb)\n",
        "\n",
        "# Keep original for comparison\n",
        "air[\"_Price_raw\"] = air[\"Price\"].astype(str)\n",
        "\n",
        "# Clean Price: remove $, commas → numeric (with coercion)\n",
        "air[\"Price_clean\"] = pd.to_numeric(\n",
        "    air[\"_Price_raw\"].str.replace(r\"[$,]\", \"\", regex=True),\n",
        "    errors=\"coerce\"\n",
        ")\n",
        "\n",
        "nan_examples = air.loc[air[\"Price_clean\"].isna(), [\"_Price_raw\", \"Price_clean\"]].head(10)\n",
        "print(\"Examples that became NaN (bad formatting or non-numeric):\")\n",
        "print(nan_examples, \"\\n\")\n",
        "\n",
        "# --- Show values that had commas removed ---\n",
        "comma_examples = air.loc[air[\"_Price_raw\"].str.contains(\",\"), [\"_Price_raw\", \"Price_clean\"]].head(10)\n",
        "print(\"Examples with commas cleaned out:\")\n",
        "print(comma_examples, \"\\n\")\n",
        "\n",
        "# --- Summary ---\n",
        "print(\"Summary of cleaned Price column:\")\n",
        "print(air[\"Price_clean\"].describe(), \"\\n\")\n",
        "print(\"Total missing after cleaning:\", air[\"Price_clean\"].isna().sum())\n",
        "\n",
        "\n",
        "# The Price column contained dollar signs and commas (e.g., \"$1,112\"), which prevented pandas from reading it as numeric.\n",
        "# I removed these formatting characters and used pd.to_numeric(..., errors=\"coerce\") so valid values converted to floats\n",
        "# (e.g., \"1,990\" → 1990.0) while any problematic entries would safely become NaN. This ensures the variable can be used\n",
        "# for calculations and analysis."
      ]
    }
  ],
  "metadata": {
    "colab": {
      "provenance": []
    },
    "kernelspec": {
      "display_name": "Python 3 (ipykernel)",
      "language": "python",
      "name": "python3"
    },
    "language_info": {
      "codemirror_mode": {
        "name": "ipython",
        "version": 3
      },
      "file_extension": ".py",
      "mimetype": "text/x-python",
      "name": "python",
      "nbconvert_exporter": "python",
      "pygments_lexer": "ipython3",
      "version": "3.10.18"
    }
  },
  "nbformat": 4,
  "nbformat_minor": 5
}