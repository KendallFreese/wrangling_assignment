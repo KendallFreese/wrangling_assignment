{
  "cells": [
    {
      "cell_type": "markdown",
      "id": "13ad028b-72b7-43ed-aa78-96fd4e518040",
      "metadata": {
        "id": "13ad028b-72b7-43ed-aa78-96fd4e518040"
      },
      "source": [
        "# Assignment: Data Wrangling\n",
        "### `! git clone https://github.com/ds3001f25/wrangling_assignment.git`\n",
        "### Do Q1 and Q2\n",
        "### Reading material: `tidy_data.pdf`"
      ]
    },
    {
      "cell_type": "markdown",
      "id": "da879ea7-8aac-48a3-b6c2-daea56d2e072",
      "metadata": {
        "id": "da879ea7-8aac-48a3-b6c2-daea56d2e072"
      },
      "source": [
        "**Q1.** This question provides some practice cleaning variables which have common problems.\n",
        "1. Numeric variable: For `./data/airbnb_hw.csv`, clean the `Price` variable as well as you can, and explain the choices you make. How many missing values do you end up with? (Hint: What happens to the formatting when a price goes over 999 dollars, say from 675 to 1,112?)\n",
        "2. Categorical variable: For the Minnesota police use of for data, `./data/mn_police_use_of_force.csv`, clean the `subject_injury` variable, handling the NA's; this gives a value `Yes` when a person was injured by police, and `No` when no injury occurred. What proportion of the values are missing? Is this a concern? Cross-tabulate your cleaned `subject_injury` variable with the `force_type` variable. Are there any patterns regarding when the data are missing?\n",
        "3. Dummy variable: For the pretrial data covered in the lecture `./data/justice_data.parquet`, clean the `WhetherDefendantWasReleasedPretrial` variable as well as you can, and, in particular, replace missing values with `np.nan`.\n",
        "4. Missing values, not at random: For the pretrial data covered in the lecture, clean the `ImposedSentenceAllChargeInContactEvent` variable as well as you can, and explain the choices you make. (Hint: Look at the `SentenceTypeAllChargesAtConvictionInContactEvent` variable.)"
      ]
    },
    {
      "cell_type": "code",
      "execution_count": 6,
      "id": "9d412a8d",
      "metadata": {
        "colab": {
          "base_uri": "https://localhost:8080/"
        },
        "id": "9d412a8d",
        "outputId": "eaed3fbd-1837-4572-a2e1-e568d60c8bd6"
      },
      "outputs": [
        {
          "output_type": "stream",
          "name": "stdout",
          "text": [
            "    Host Id Host Since                                Name Neighbourhood   \\\n",
            "0   5162530        NaN     1 Bedroom in Prime Williamsburg       Brooklyn   \n",
            "1  33134899        NaN     Sunny, Private room in Bushwick       Brooklyn   \n",
            "2  39608626        NaN                Sunny Room in Harlem      Manhattan   \n",
            "3       500  6/26/2008  Gorgeous 1 BR with Private Balcony      Manhattan   \n",
            "4       500  6/26/2008            Trendy Times Square Loft      Manhattan   \n",
            "\n",
            "  Property Type  Review Scores Rating (bin)        Room Type  Zipcode  Beds  \\\n",
            "0     Apartment                         NaN  Entire home/apt  11249.0   1.0   \n",
            "1     Apartment                         NaN     Private room  11206.0   1.0   \n",
            "2     Apartment                         NaN     Private room  10032.0   1.0   \n",
            "3     Apartment                         NaN  Entire home/apt  10024.0   3.0   \n",
            "4     Apartment                        95.0     Private room  10036.0   3.0   \n",
            "\n",
            "   Number of Records  Number Of Reviews Price  Review Scores Rating  \n",
            "0                  1                  0   145                   NaN  \n",
            "1                  1                  1    37                   NaN  \n",
            "2                  1                  1    28                   NaN  \n",
            "3                  1                  0   199                   NaN  \n",
            "4                  1                 39   549                  96.0  \n",
            "Q1.1 — Price cleaning\n",
            "     _Price_raw  Price_clean\n",
            "101       1,990         1990\n",
            "263       1,000         1000\n",
            "764       1,200         1200\n",
            "1272      1,000         1000\n",
            "1275      5,000         5000\n",
            "1476      3,000         3000\n",
            "1846      1,500         1500\n",
            "1973      1,200         1200\n",
            "\n",
            "Total rows: 30,478\n",
            "Missing after cleaning (Price_clean is NaN): 0\n"
          ]
        }
      ],
      "source": [
        "import pandas as pd\n",
        "import numpy as np\n",
        "import re\n",
        "\n",
        "url_airbnb = \"https://raw.githubusercontent.com/KendallFreese/wrangling_assignment/main/data/airbnb_hw.csv\"\n",
        "air = pd.read_csv(url_airbnb)\n",
        "\n",
        "url_mn = \"https://raw.githubusercontent.com/KendallFreese/wrangling_assignment/main/data/mn_police_use_of_force.csv\"\n",
        "mn = pd.read_csv(url_mn)\n",
        "\n",
        "url_justice = \"https://raw.githubusercontent.com/KendallFreese/wrangling_assignment/main/data/justice_data.parquet\"\n",
        "justice = pd.read_parquet(url_justice)\n",
        "\n",
        "## Q1.1\n",
        "\n",
        "air.head()\n",
        "# Keep original for comparison\n",
        "air[\"_Price_raw\"] = air[\"Price\"].astype(str)\n",
        "\n",
        "\n",
        "# Strip currency symbols, commas, spaces, and any trailing text; coerce bad parses to NaN\n",
        "air[\"Price_clean\"] = (\n",
        "    air[\"Price\"]\n",
        "      .astype(str)\n",
        "      .str.replace(r\"[^0-9\\.\\-]\", \"\", regex=True)   # remove $ , spaces, etc.\n",
        "      .str.replace(r\"(?<=\\d)\\.(?=\\d{3}\\b)\", \"\", regex=True)  # handle thousands dots if present\n",
        ")\n",
        "\n",
        "# Convert to numeric\n",
        "air[\"Price_clean\"] = pd.to_numeric(air[\"Price_clean\"], errors=\"coerce\")\n",
        "\n",
        "print(\"Q1.1 — Price cleaning\")\n",
        "print(air.loc[air[\"_Price_raw\"].ne(air[\"Price_clean\"].astype(str)) , [\"_Price_raw\",\"Price_clean\"]].head(8))\n",
        "print(f\"\\nTotal rows: {len(air):,}\")\n",
        "print(f\"Missing after cleaning (Price_clean is NaN): {air['Price_clean'].isna().sum():,}\")\n",
        "\n",
        "# The choices I made to clean the Price variable include removing potential $ signs, spaces, trailing text, and\n",
        "# commas. I also coerced missing values to read as NaN and any non-numeric strings \"-\" or \"N/A\". Therefore,\n",
        "# there are no missing values after coersion as they now read as \"NaN\".\n",
        "# Values like '1,112' become 1112 because we remove the comma before casting to numeric.\n"
      ]
    },
    {
      "cell_type": "markdown",
      "id": "5a60a44e",
      "metadata": {
        "id": "5a60a44e"
      },
      "source": [
        "**Q2.** Go to https://sharkattackfile.net/ and download their dataset on shark attacks (Hint: `GSAF5.xls`).\n",
        "\n",
        "1. Open the shark attack file using Pandas. It is probably not a csv file, so `read_csv` won't work.\n",
        "2. Drop any columns that do not contain data.\n",
        "3. Clean the year variable. Describe the range of values you see. Filter the rows to focus on attacks since 1940. Are attacks increasing, decreasing, or remaining constant over time?\n",
        "4. Clean the Age variable and make a histogram of the ages of the victims.\n",
        "5. What proportion of victims are male?\n",
        "6. Clean the `Type` variable so it only takes three values: Provoked and Unprovoked and Unknown. What proportion of attacks are unprovoked?\n",
        "7. Clean the `Fatal Y/N` variable so it only takes three values: Y, N, and Unknown.\n",
        "8. Are sharks more likely to launch unprovoked attacks on men or women? Is the attack more or less likely to be fatal when the attack is provoked or unprovoked? Is it more or less likely to be fatal when the victim is male or female? How do you feel about sharks?\n",
        "9. What proportion of attacks appear to be by white sharks? (Hint: `str.split()` makes a vector of text values into a list of lists, split by spaces.)"
      ]
    },
    {
      "cell_type": "code",
      "execution_count": null,
      "id": "a3f03830",
      "metadata": {
        "id": "a3f03830"
      },
      "outputs": [],
      "source": []
    }
  ],
  "metadata": {
    "colab": {
      "provenance": []
    },
    "kernelspec": {
      "display_name": "Python 3 (ipykernel)",
      "language": "python",
      "name": "python3"
    },
    "language_info": {
      "codemirror_mode": {
        "name": "ipython",
        "version": 3
      },
      "file_extension": ".py",
      "mimetype": "text/x-python",
      "name": "python",
      "nbconvert_exporter": "python",
      "pygments_lexer": "ipython3",
      "version": "3.10.18"
    }
  },
  "nbformat": 4,
  "nbformat_minor": 5
}